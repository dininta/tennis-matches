{
 "cells": [
  {
   "cell_type": "code",
   "execution_count": null,
   "metadata": {
    "cell_id": "00000-9d3f02f9-0c24-4956-a92c-467327c32d64",
    "deepnote_cell_type": "code",
    "deepnote_to_be_reexecuted": false,
    "execution_millis": 1912,
    "execution_start": 1640711870379,
    "source_hash": "ef836b1e",
    "tags": []
   },
   "outputs": [],
   "source": [
    "import pandas as pd\n",
    "import numpy as np\n",
    "import seaborn as sb\n",
    "import matplotlib.pyplot as plt\n",
    "\n",
    "import Library\n",
    "\n",
    "from sklearn.preprocessing import StandardScaler"
   ]
  },
  {
   "cell_type": "markdown",
   "metadata": {
    "cell_id": "00001-0976c820-8c24-46ad-8bc5-e1ca4b54dcd2",
    "deepnote_cell_type": "markdown",
    "tags": []
   },
   "source": [
    "## <hr><center>Pre-classification processing</center><hr>"
   ]
  },
  {
   "cell_type": "markdown",
   "metadata": {},
   "source": [
    "The purpose of this notebook is to separate the concerns between splitting the dataset and providing attributes.\n",
    "In this notebook the following steps are followed:\n",
    "    1. The semantics of the binary label is established.\n",
    "    2. The dataset is split into 20% test and saved in a different file.\n",
    "    3. Normalization and selection of the attributes is performed.\n",
    "    4. The datasets ready for classification are saved. "
   ]
  },
  {
   "cell_type": "code",
   "execution_count": null,
   "metadata": {
    "cell_id": "00002-d70973b4-5501-408c-bffb-6764ae199119",
    "deepnote_cell_type": "code",
    "deepnote_to_be_reexecuted": false,
    "execution_millis": 43,
    "execution_start": 1640711873118,
    "source_hash": "188fca08",
    "tags": []
   },
   "outputs": [
    {
     "name": "stdout",
     "output_type": "stream",
     "text": [
      "(players_df) Loading 1918 rows from \"../data_cleaned/players_df.csv\"\n"
     ]
    }
   ],
   "source": [
    "# Load the players dataset.\n",
    "\n",
    "players_df = pd.read_csv('../data_cleaned/players.csv')\n",
    "print(f'(players_df) Loading {players_df.shape[0]} rows from \"../data_cleaned/players_df.csv\"')\n",
    "players_statistics = Library.deserialize_statistics('../data_cleaned/players_df.stat')"
   ]
  },
  {
   "cell_type": "markdown",
   "metadata": {
    "cell_id": "00003-b1cac893-cd9c-448d-8539-5f12d8918c4e",
    "deepnote_cell_type": "markdown",
    "tags": []
   },
   "source": [
    "## <hr><center>Define the binary classification label</center><hr>"
   ]
  },
  {
   "cell_type": "code",
   "execution_count": null,
   "metadata": {
    "cell_id": "00005-1238cf10-04ef-49fe-89ce-0d77bd0dfe69",
    "deepnote_cell_type": "code",
    "deepnote_to_be_reexecuted": false,
    "execution_millis": 10,
    "execution_start": 1640711978200,
    "source_hash": "bc8a6623",
    "tags": []
   },
   "outputs": [],
   "source": [
    "# We define the top_players as the 15% of the players with highest performance indicator.\n",
    "top_players_percentile = 85\n",
    "\n",
    "# Compute the performance indicator, defined as the ratio between rank_points and rank.\n",
    "players_df['performance'] = players_df['rank_points']/players_df['rank']\n",
    "\n",
    "# Set the treshold for the performance indicator.\n",
    "top_players_threshold = np.percentile(players_df['performance'], top_players_percentile)\n",
    "\n",
    "# Assign the top_players to the top_players_df.\n",
    "players_df['high_profile'] = (players_df['performance'] >= top_players_threshold).astype('int')"
   ]
  },
  {
   "cell_type": "code",
   "execution_count": null,
   "metadata": {
    "cell_id": "00006-53104e2c-f5b0-402f-97fb-dc78ff81f04e",
    "deepnote_cell_type": "code",
    "deepnote_output_heights": [
     282,
     282
    ],
    "deepnote_to_be_reexecuted": false,
    "execution_millis": 2400,
    "execution_start": 1640624436641,
    "source_hash": "4dc28360",
    "tags": []
   },
   "outputs": [
    {
     "data": {
      "image/png": "[encoded data removed]",
      "text/plain": [
       "<Figure size 432x288 with 1 Axes>"
      ]
     },
     "metadata": {
      "image/png": {
       "height": 280,
       "width": 424
      },
      "needs_background": "light"
     },
     "output_type": "display_data"
    },
    {
     "data": {
      "image/png": "[encoded data removed]",
      "text/plain": [
       "<Figure size 432x288 with 1 Axes>"
      ]
     },
     "metadata": {
      "image/png": {
       "height": 280,
       "width": 424
      },
      "needs_background": "light"
     },
     "output_type": "display_data"
    }
   ],
   "source": [
    "# Graphically visualize the player distribution over the performance indicator, considering rank, rank_points, and win_rate.\n",
    " \n",
    "plt.scatter(x=players_df[players_df['high_profile']==0]['win_rate'], y=players_df[players_df['high_profile']==0]['rank_points'], label='Low profile')\n",
    "plt.scatter(x=players_df[players_df['high_profile']==1]['win_rate'], y=players_df[players_df['high_profile']==1]['rank_points'], label='High profile')\n",
    "plt.legend()\n",
    "plt.xlabel('Win rate')\n",
    "plt.ylabel('Rank points')\n",
    "Library.save('rank_points_win_rate.svg')\n",
    "plt.show()\n",
    "plt.scatter(x=players_df[players_df['high_profile']==0]['rank'], y=players_df[players_df['high_profile']==0]['rank_points'], label='Low profile')\n",
    "plt.scatter(x=players_df[players_df['high_profile']==1]['rank'], y=players_df[players_df['high_profile']==1]['rank_points'], label='High profile')\n",
    "plt.xlabel('Rank')\n",
    "plt.ylabel('Rank points')\n",
    "plt.legend()\n",
    "Library.save('rank_points_rank.svg')\n",
    "plt.show()"
   ]
  },
  {
   "cell_type": "code",
   "execution_count": null,
   "metadata": {
    "cell_id": "00007-6feb5367-4a5b-450b-b4f0-b4135b64498b",
    "deepnote_cell_type": "code",
    "deepnote_output_heights": [
     59.5625
    ],
    "deepnote_to_be_reexecuted": false,
    "execution_millis": 5,
    "execution_start": 1640624343915,
    "source_hash": "59bf561b",
    "tags": []
   },
   "outputs": [
    {
     "data": {
      "text/plain": [
       "0    1599\n",
       "1     283\n",
       "Name: high_profile, dtype: int64"
      ]
     },
     "execution_count": 6,
     "metadata": {},
     "output_type": "execute_result"
    }
   ],
   "source": [
    "# As a sanity check, verify the dataset size.\n",
    "players_df['high_profile'].value_counts()"
   ]
  },
  {
   "cell_type": "markdown",
   "metadata": {
    "cell_id": "00008-b632480e-e1f9-4e56-914c-c458696c920b",
    "deepnote_cell_type": "markdown",
    "tags": []
   },
   "source": [
    "## <hr><center>Split the dataset into 20% test set</center><hr>"
   ]
  },
  {
   "cell_type": "code",
   "execution_count": null,
   "metadata": {
    "cell_id": "00009-bc09d4ee-cf9a-4fd9-a10b-ebdf73947d60",
    "deepnote_cell_type": "code",
    "deepnote_to_be_reexecuted": false,
    "execution_millis": 44,
    "execution_start": 1640624343916,
    "source_hash": "167695ca",
    "tags": []
   },
   "outputs": [],
   "source": [
    "from sklearn.model_selection import train_test_split\n",
    "\n",
    "# Perform the train-test split.\n",
    "\n",
    "train_df, test_df = train_test_split(players_df, test_size=0.2, random_state=1)"
   ]
  },
  {
   "cell_type": "code",
   "execution_count": null,
   "metadata": {
    "cell_id": "00010-082c0efd-8251-416d-a2af-88a45973e325",
    "deepnote_cell_type": "code",
    "deepnote_output_heights": [
     59.5625
    ],
    "deepnote_to_be_reexecuted": false,
    "execution_millis": 3,
    "execution_start": 1640624343960,
    "source_hash": "3878da9a",
    "tags": []
   },
   "outputs": [
    {
     "data": {
      "text/plain": [
       "0    0.851163\n",
       "1    0.148837\n",
       "Name: high_profile, dtype: float64"
      ]
     },
     "execution_count": 8,
     "metadata": {},
     "output_type": "execute_result"
    }
   ],
   "source": [
    "# Verify the percentages on train.\n",
    "train_df['high_profile'].value_counts() / train_df.shape[0]"
   ]
  },
  {
   "cell_type": "code",
   "execution_count": null,
   "metadata": {
    "cell_id": "00011-05248995-9fe7-4001-af4d-24f81f7bcbc9",
    "deepnote_cell_type": "code",
    "deepnote_output_heights": [
     59.5625
    ],
    "deepnote_to_be_reexecuted": false,
    "execution_millis": 2,
    "execution_start": 1640624343961,
    "source_hash": "380ebbc",
    "tags": []
   },
   "outputs": [
    {
     "data": {
      "text/plain": [
       "0    0.843501\n",
       "1    0.156499\n",
       "Name: high_profile, dtype: float64"
      ]
     },
     "execution_count": 9,
     "metadata": {},
     "output_type": "execute_result"
    }
   ],
   "source": [
    "# Verify the percentages on test.\n",
    "test_df['high_profile'].value_counts() / test_df.shape[0]"
   ]
  },
  {
   "cell_type": "markdown",
   "metadata": {
    "cell_id": "00013-b07da9a1-e58b-4754-987d-5fe0e2cd45cb",
    "deepnote_cell_type": "markdown",
    "tags": []
   },
   "source": [
    "## <hr><center>Save the classification profile of the dataset</center><hr>"
   ]
  },
  {
   "cell_type": "code",
   "execution_count": null,
   "metadata": {
    "cell_id": "00014-70823458-0e63-4621-8f51-4a6171c6f73f",
    "deepnote_cell_type": "code",
    "deepnote_to_be_reexecuted": false,
    "execution_millis": 691257112,
    "execution_start": 1640624344400,
    "source_hash": "82d26b5a",
    "tags": []
   },
   "outputs": [],
   "source": [
    "#classification_attributes = Library.numerical_attributes(players_statistics) + [\"high_profile\"]\n",
    "\n",
    "# Define the set of classification attributes we selected.\n",
    "classification_attributes = \\\n",
    "    ['avg_ace%', 'avg_df%', 'avg_1st%', 'avg_2ndWin%', 'avg_bpSaved%', 'avg_ptWon%', \n",
    "     'win_rate', 'n_matches', 'tournament_wins', 'high_profile']\n",
    "\n",
    "# Filter the datasets to the classification profile attributes.\n",
    "test_df  = test_df[classification_attributes]\n",
    "train_df = train_df[classification_attributes]\n",
    "\n",
    "# Ensure that rank and rank_points are removed from the training and test set.\n",
    "train_df = train_df.drop(columns=['rank_points', 'rank'])\n",
    "test_df = test_df.drop(columns=['rank_points', 'rank'])"
   ]
  },
  {
   "cell_type": "code",
   "execution_count": null,
   "metadata": {
    "cell_id": "00016-314131ee-5353-47b2-a2d1-b8747bf4922a",
    "deepnote_cell_type": "code",
    "deepnote_to_be_reexecuted": false,
    "execution_millis": 1,
    "execution_start": 1640624344462,
    "source_hash": "d3ca22ba",
    "tags": []
   },
   "outputs": [],
   "source": [
    "# Add the classification label as the last attribute of the nparray.\n",
    "train_data = train_df.values\n",
    "test_data = test_df.values\n",
    "\n",
    "train_X, train_y = train_data[:, :-1], train_data[:, -1]\n",
    "test_X, test_y = test_data[:, :-1], test_data[:, -1]\n",
    "\n",
    "# Normalize the data using StandardScaler.\n",
    "scaler = StandardScaler()\n",
    "scaler.fit(train_X)\n",
    "train_X = scaler.transform(train_X)\n",
    "test_X = scaler.transform(test_X)"
   ]
  },
  {
   "cell_type": "code",
   "execution_count": null,
   "metadata": {
    "cell_id": "00017-4aec364d-b614-4002-abe6-e04a30996e7b",
    "deepnote_cell_type": "code",
    "deepnote_output_heights": [
     21.171875
    ],
    "deepnote_to_be_reexecuted": false,
    "execution_millis": 310,
    "execution_start": 1640624344463,
    "source_hash": "816f2c0b",
    "tags": []
   },
   "outputs": [
    {
     "name": "stdout",
     "output_type": "stream",
     "text": [
      "(train_X) Saving 1505 rows to \"../data_classification/train_X.csv\"\n",
      "(train_y) Saving 1505 rows to \"../data_classification/train_y.csv\"\n",
      "(test_X) Saving 377 rows to \"../data_classification/test_X.csv\"\n",
      "(test_y) Saving 377 rows to \"../data_classification/test_y.csv\"\n"
     ]
    }
   ],
   "source": [
    "# Finally, save the datasets to the data_classification folder.\n",
    "\n",
    "print(f'(train_X) Saving {train_X.shape[0]} rows to \"../data_classification/train_X.csv\"')\n",
    "np.savetxt(\"../data_classification/train_X.csv\", train_X, delimiter=\",\")\n",
    "print(f'(train_y) Saving {train_y.shape[0]} rows to \"../data_classification/train_y.csv\"')\n",
    "np.savetxt(\"../data_classification/train_y.csv\", train_y, delimiter=\",\")\n",
    "\n",
    "print(f'(test_X) Saving {test_X.shape[0]} rows to \"../data_classification/test_X.csv\"')\n",
    "np.savetxt(\"../data_classification/test_X.csv\", test_X, delimiter=\",\")\n",
    "print(f'(test_y) Saving {test_y.shape[0]} rows to \"../data_classification/test_y.csv\"')\n",
    "np.savetxt(\"../data_classification/test_y.csv\", test_y, delimiter=\",\")"
   ]
  },
  {
   "cell_type": "markdown",
   "metadata": {
    "created_in_deepnote_cell": true,
    "deepnote_cell_type": "markdown",
    "tags": []
   },
   "source": []
  }
 ],
 "metadata": {
  "deepnote": {
   "is_reactive": false
  },
  "deepnote_execution_queue": [],
  "deepnote_notebook_id": "99b04952-8b12-44dc-8f83-7efb0100df50",
  "interpreter": {
   "hash": "c4544e20c829552bdc3e97aa8014d522897400a8e75c69a581cdf4bd9fb5bbac"
  },
  "kernelspec": {
   "display_name": "Python 3.9.7 64-bit ('base': conda)",
   "language": "python",
   "name": "python3"
  },
  "language_info": {
   "codemirror_mode": {
    "name": "ipython",
    "version": 3
   },
   "file_extension": ".py",
   "mimetype": "text/x-python",
   "name": "python",
   "nbconvert_exporter": "python",
   "pygments_lexer": "ipython3",
   "version": "3.9.7"
  },
  "orig_nbformat": 2
 },
 "nbformat": 4,
 "nbformat_minor": 2
}
