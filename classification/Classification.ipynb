{
 "cells": [
  {
   "cell_type": "code",
   "execution_count": null,
   "metadata": {
    "cell_id": "00000-08070b04-95d1-49d4-a748-f079eeb8c975",
    "deepnote_cell_type": "code",
    "deepnote_output_heights": [
     607
    ],
    "deepnote_to_be_reexecuted": false,
    "execution": {
     "iopub.execute_input": "2022-01-02T22:07:10.377129Z",
     "iopub.status.busy": "2022-01-02T22:07:10.376817Z",
     "iopub.status.idle": "2022-01-02T22:07:16.088316Z",
     "shell.execute_reply": "2022-01-02T22:07:16.087579Z",
     "shell.execute_reply.started": "2022-01-02T22:07:10.377038Z"
    },
    "execution_millis": 5415,
    "execution_start": 1641369865445,
    "source_hash": "4eeb1ca0",
    "tags": [],
    "trusted": true
   },
   "outputs": [],
   "source": [
    "import numpy as np\n",
    "import pandas as pd\n",
    "import matplotlib.pyplot as plt\n",
    "from sklearn.svm import SVC\n",
    "from sklearn.model_selection import train_test_split, GridSearchCV\n",
    "from sklearn.metrics import accuracy_score, confusion_matrix, classification_report\n",
    "from sklearn.preprocessing import StandardScaler\n",
    "from sklearn.neighbors import KNeighborsClassifier\n",
    "from sklearn.linear_model import LogisticRegression\n",
    "from sklearn.tree import DecisionTreeClassifier\n",
    "from sklearn.ensemble import RandomForestClassifier\n",
    "from sklearn.naive_bayes import GaussianNB\n",
    "from sklearn.tree import export_graphviz\n",
    "import graphviz\n",
    "from itertools import product\n",
    "import tensorflow as tf\n",
    "from tensorflow import keras\n",
    "from tensorflow.keras.models import Sequential\n",
    "from tensorflow.keras.layers import Dense, Dropout, BatchNormalization\n",
    "from tensorflow.keras.callbacks import EarlyStopping\n",
    "from imblearn.over_sampling import SMOTE\n",
    "from typing import List, Tuple"
   ]
  },
  {
   "cell_type": "markdown",
   "metadata": {
    "cell_id": "00001-070375b3-6329-481e-ac9d-5729c6a87e5f",
    "deepnote_cell_type": "markdown",
    "tags": []
   },
   "source": [
    "## <hr><center>Load the datasets prepared by the `ClassificationPrepare` Notebook</center></hr>"
   ]
  },
  {
   "cell_type": "code",
   "execution_count": null,
   "metadata": {
    "cell_id": "00002-b428c1d5-2afc-4c98-b8fb-d7a1746a900a",
    "deepnote_cell_type": "code",
    "deepnote_to_be_reexecuted": false,
    "execution": {
     "iopub.execute_input": "2022-01-02T22:07:16.090155Z",
     "iopub.status.busy": "2022-01-02T22:07:16.089912Z",
     "iopub.status.idle": "2022-01-02T22:07:16.245348Z",
     "shell.execute_reply": "2022-01-02T22:07:16.244633Z",
     "shell.execute_reply.started": "2022-01-02T22:07:16.090121Z"
    },
    "execution_millis": 76,
    "execution_start": 1641369874449,
    "source_hash": "8ae57715",
    "tags": [],
    "trusted": true
   },
   "outputs": [
    {
     "name": "stdout",
     "output_type": "stream",
     "text": [
      "(train_X) Loading 1505 from \"data/stage2/train_X.csv\"\n",
      "(train_y) Loading 1505 from \"data/stage2/train_y.csv\"\n",
      "(test_X) Loading 377 from \"data/stage2/test_X.csv\"\n",
      "(test_y) Loading 377 from \"data/stage2/test_y.csv\"\n"
     ]
    }
   ],
   "source": [
    "# Load the training dataset.\n",
    " \n",
    "train_X = np.loadtxt(\"../data_classification/train_X.csv\", delimiter=\",\")\n",
    "print(f'(train_X) Loading {train_X.shape[0]} from \"../data_classification/train_X.csv\"')\n",
    "train_y = np.loadtxt(\"../data_classification/train_y.csv\", delimiter=\",\")\n",
    "print(f'(train_y) Loading {train_y.shape[0]} from \"../data_classification/train_y.csv\"')\n",
    "\n",
    "# Load the test dataset.\n",
    "\n",
    "test_X = np.loadtxt(\"../data_classification/test_X.csv\", delimiter=\",\")\n",
    "print(f'(test_X) Loading {test_X.shape[0]} from \"../data_classification/test_X.csv\"')\n",
    "test_y = np.loadtxt(\"../data_classification/test_y.csv\", delimiter=\",\")\n",
    "print(f'(test_y) Loading {test_y.shape[0]} from \"../data_classification/test_y.csv\"')\n",
    "\n",
    "# Normalize data\n",
    "scaler = StandardScaler()\n",
    "scaler.fit(train_X)\n",
    "train_X = scaler.transform(train_X)\n",
    "test_X = scaler.transform(test_X)"
   ]
  },
  {
   "cell_type": "markdown",
   "metadata": {
    "cell_id": "00003-5b346e9a-11c6-4ccd-9489-392cd5553955",
    "deepnote_cell_type": "markdown",
    "tags": []
   },
   "source": [
    "## <hr><center>Common definitions for all classifiers</center></hr>"
   ]
  },
  {
   "cell_type": "code",
   "execution_count": null,
   "metadata": {
    "cell_id": "00004-73fa0b06-69bf-4428-9939-c7a5c1e1b459",
    "deepnote_cell_type": "code",
    "deepnote_to_be_reexecuted": false,
    "execution": {
     "iopub.execute_input": "2022-01-02T22:07:16.317735Z",
     "iopub.status.busy": "2022-01-02T22:07:16.317253Z",
     "iopub.status.idle": "2022-01-02T22:07:16.329831Z",
     "shell.execute_reply": "2022-01-02T22:07:16.329045Z",
     "shell.execute_reply.started": "2022-01-02T22:07:16.317700Z"
    },
    "execution_millis": 5,
    "execution_start": 1641369876307,
    "source_hash": "103d548c",
    "tags": [],
    "trusted": true
   },
   "outputs": [],
   "source": [
    "# All model classifiers are collected in this dictionary by using a common function decorator.\n",
    "all_classifiers = {}\n",
    "\n",
    "# Custom model decorator to be able to find and run all models in an uniform way.\n",
    "# A classifier lambda is required in the \"model\" attribute.\n",
    "def model_decorator(name):\n",
    "    def decorator(model):\n",
    "        all_classifiers[name] = {'model': model}\n",
    "        return model\n",
    "    return decorator\n",
    "\n",
    "# Run all classifiers corresponding with the \"classifiers\" label.\n",
    "def run_classifiers(classifiers, train_X, train_y, test_X, test_y):\n",
    "    for name, classifier in classifiers.items():\n",
    "        run_classifier(name, classifier, train_X, train_y, test_X, test_y)\n",
    "\n",
    "# Run a single classifier with the given name.\n",
    "def run_classifier_by_name(name, train_X, train_y, test_X, test_y):\n",
    "    run_classifier(name, all_classifiers[name], train_X, train_y, test_X, test_y)\n",
    "    \n",
    "# Main run_classifier function.\n",
    "# :param name: Name of the classifier.\n",
    "# :param classifier: Classifier object: a dictionary with a classifier lambda in 'model'.\n",
    "# :param train_X: Training data.\n",
    "# :param train_y: Training labels.\n",
    "# :param test_X: Test data.\n",
    "# :param test_y: Test labels.\n",
    "def run_classifier(name, classifier, train_X, train_y, test_X, test_y):\n",
    "\n",
    "    print(\"-- Model: \", name, \"--\")\n",
    "    \n",
    "    # Run the classifier lambda.\n",
    "    prediction_function = classifier['model'](train_X, train_y)\n",
    "    \n",
    "    # Get the predictions.\n",
    "    predict_train = prediction_function(train_X)\n",
    "    predict_test  = prediction_function(test_X)\n",
    "            \n",
    "    # Print train and test accuracy.\n",
    "    print('Train accuracy:', accuracy_score(train_y, predict_train))\n",
    "    print('Test accuracy:', accuracy_score(test_y, predict_test))\n",
    "    \n",
    "    # Print classification report.\n",
    "    print('Train classification report:')\n",
    "    print(classification_report(train_y, predict_train))\n",
    "\n",
    "    print('Test Classification report:')\n",
    "    print(classification_report(test_y, predict_test))\n",
    "    \n",
    "    # Plot confusion matrix.\n",
    "    cm = confusion_matrix(test_y, predict_test)\n",
    "    plt.matshow(cm)\n",
    "    plt.title('Confusion Matrix')\n",
    "    plt.colorbar()\n",
    "    plt.ylabel('True label')\n",
    "    plt.xlabel('Predicted label')\n",
    "    \n",
    "    # Add labels to each cell of the confusion matrix.\n",
    "    for i in range(cm.shape[0]):\n",
    "        for j in range(cm.shape[1]):\n",
    "            plt.text(x=j, y=i, s=cm[i, j], va='center', ha='center')\n",
    "    plt.show()"
   ]
  },
  {
   "cell_type": "markdown",
   "metadata": {},
   "source": [
    "## <hr><center>Models</center><hr>"
   ]
  },
  {
   "cell_type": "markdown",
   "metadata": {},
   "source": [
    "We present here a section for each model we tried on the dataset.\n",
    "\n",
    "The model constructions are all self-explanatory, with the grid searches being defined in a uniform way and using GridSearchCV to present the list of parameters.\n",
    "\n",
    "The functions defined here all present a common interface which is then used to predict on train and test dataset."
   ]
  },
  {
   "cell_type": "markdown",
   "metadata": {
    "cell_id": "00005-9c60b68e-8b8a-473a-8103-7cdb1fd153e0",
    "deepnote_cell_type": "markdown",
    "tags": []
   },
   "source": [
    "# KNN"
   ]
  },
  {
   "cell_type": "code",
   "execution_count": null,
   "metadata": {
    "cell_id": "00006-fcbfefdc-56b3-486a-9950-431b2b709d5b",
    "deepnote_cell_type": "code",
    "deepnote_to_be_reexecuted": false,
    "execution": {
     "iopub.execute_input": "2022-01-02T22:07:16.332017Z",
     "iopub.status.busy": "2022-01-02T22:07:16.331701Z",
     "iopub.status.idle": "2022-01-02T22:07:16.342762Z",
     "shell.execute_reply": "2022-01-02T22:07:16.341943Z",
     "shell.execute_reply.started": "2022-01-02T22:07:16.331974Z"
    },
    "execution_millis": 0,
    "execution_start": 1641369879132,
    "source_hash": "43c7f168",
    "tags": [],
    "trusted": true
   },
   "outputs": [],
   "source": [
    "@model_decorator('knn')\n",
    "def model_knn_grid_search(train_X, train_y, test_X, test_y):\n",
    "    model = KNeighborsClassifier()\n",
    "    params = {\n",
    "        'n_neighbors': list(range(2, 50)),\n",
    "        'weights': ['uniform', 'distance'],\n",
    "        'algorithm': [ 'ball_tree', 'kd_tree', 'brute'],\n",
    "        'metric': ['minkowski'],\n",
    "        'p': [1, 2] # p-norm, 1 = Manhattan, 2 = Euclidean\n",
    "    }\n",
    "    grid_search = GridSearchCV(model, params, cv=3, n_jobs=-1)\n",
    "    grid_search.fit(train_X, train_y)\n",
    "    print(f'Best params: {grid_search.best_params_}')\n",
    "    return grid_search.best_estimator_.predict"
   ]
  },
  {
   "cell_type": "markdown",
   "metadata": {
    "cell_id": "00007-5884285e-a211-4766-b3eb-01805af78569",
    "deepnote_cell_type": "markdown"
   },
   "source": [
    "# Logistic Regression"
   ]
  },
  {
   "cell_type": "code",
   "execution_count": null,
   "metadata": {
    "cell_id": "00008-53e268fd-723b-4c57-ac3d-fdc424ad38f4",
    "deepnote_cell_type": "code",
    "deepnote_to_be_reexecuted": false,
    "execution": {
     "iopub.execute_input": "2022-01-02T22:07:16.343992Z",
     "iopub.status.busy": "2022-01-02T22:07:16.343781Z",
     "iopub.status.idle": "2022-01-02T22:07:16.355314Z",
     "shell.execute_reply": "2022-01-02T22:07:16.354583Z",
     "shell.execute_reply.started": "2022-01-02T22:07:16.343957Z"
    },
    "execution_millis": 2,
    "execution_start": 1641369880736,
    "source_hash": "9914f851",
    "tags": [],
    "trusted": true
   },
   "outputs": [],
   "source": [
    "@model_decorator('logistic_regression')\n",
    "def model_logistic_regression(train_X, train_y, test_X, test_y):\n",
    "    model = LogisticRegression()\n",
    "    params = {\n",
    "        'C': np.random.uniform(0.0001, 0.5, size=30),\n",
    "        'solver': ['newton-cg', 'lbfgs', 'liblinear', 'sag', 'saga'],\n",
    "        'max_iter': [10000],\n",
    "        'class_weight': ['balanced', None]\n",
    "    }\n",
    "    grid_search = GridSearchCV(model, params, cv=3, n_jobs=-1)\n",
    "    grid_search.fit(train_X, train_y)\n",
    "    print(f'Best params: {grid_search.best_params_}')\n",
    "    return grid_search.best_estimator_.predict"
   ]
  },
  {
   "cell_type": "markdown",
   "metadata": {
    "cell_id": "00009-bb0491b8-683f-4292-a622-1882c49580c8",
    "deepnote_cell_type": "markdown"
   },
   "source": [
    "# Naive Bayes"
   ]
  },
  {
   "cell_type": "code",
   "execution_count": null,
   "metadata": {
    "cell_id": "00010-f6fe47a3-1f92-435d-98d7-f94e45056bf5",
    "deepnote_cell_type": "code",
    "deepnote_to_be_reexecuted": false,
    "execution": {
     "iopub.execute_input": "2022-01-02T22:07:16.357443Z",
     "iopub.status.busy": "2022-01-02T22:07:16.357007Z",
     "iopub.status.idle": "2022-01-02T22:07:16.364960Z",
     "shell.execute_reply": "2022-01-02T22:07:16.364065Z",
     "shell.execute_reply.started": "2022-01-02T22:07:16.357340Z"
    },
    "execution_millis": 1,
    "execution_start": 1641369882642,
    "source_hash": "2ba88331",
    "trusted": true
   },
   "outputs": [],
   "source": [
    "@model_decorator('bayes')\n",
    "def model_bayes(train_X, train_y, test_X, test_y):\n",
    "    priors = np.unique(train_y, return_counts=True)[1]\n",
    "    priors = priors / priors.sum()\n",
    "    model = GaussianNB(priors=priors)\n",
    "    return model.fit(train_X, train_y).predict"
   ]
  },
  {
   "cell_type": "markdown",
   "metadata": {
    "cell_id": "00011-8458a847-e09b-4f7e-9530-f405dded3c58",
    "deepnote_cell_type": "markdown"
   },
   "source": [
    "# SVM"
   ]
  },
  {
   "cell_type": "code",
   "execution_count": null,
   "metadata": {
    "cell_id": "00012-7e39cc9f-0a98-4ac9-8c10-e84135d5eb37",
    "deepnote_cell_type": "code",
    "deepnote_to_be_reexecuted": false,
    "execution": {
     "iopub.execute_input": "2022-01-02T22:07:16.367878Z",
     "iopub.status.busy": "2022-01-02T22:07:16.367527Z",
     "iopub.status.idle": "2022-01-02T22:07:16.383178Z",
     "shell.execute_reply": "2022-01-02T22:07:16.382317Z",
     "shell.execute_reply.started": "2022-01-02T22:07:16.367838Z"
    },
    "execution_millis": 1,
    "execution_start": 1641369944231,
    "source_hash": "61dd7c8b",
    "trusted": true
   },
   "outputs": [],
   "source": [
    "@model_decorator('svm')\n",
    "def model_svm(train_X, train_y, test_X, test_y):\n",
    "    model = SVC()\n",
    "    # RBF kernel\n",
    "    # # Initial broad search\n",
    "    # params = {\n",
    "    #     'C': np.random.uniform(0.0001, 0.5, size=10),\n",
    "    #     'kernel': ['rbf'],\n",
    "    #     'gamma': np.random.uniform(0.0001, 0.5, size=10),\n",
    "    #     'shrinking': [True, False],\n",
    "    #     'probability': [True, False],\n",
    "    # }\n",
    "    # # results: 'C': 0.4786995895467172, 'gamma': 0.08694625970414771, 'kernel': 'rbf', 'probability': True, 'shrinking': True\n",
    "    # # finer grid search:\n",
    "    # params = {\n",
    "    #     'C': np.random.uniform(0.1, 1, size=10),\n",
    "    #     'kernel': ['rbf'],\n",
    "    #     'gamma': np.random.uniform(0.01, 1, size=10),\n",
    "    #     'shrinking': [True, False],\n",
    "    #     'probability': [True, False],\n",
    "    # }\n",
    "    # # 'C': 0.736944154680953, 'gamma': 0.28274937807806205, 'kernel': 'rbf', 'probability': True, 'shrinking': True\n",
    "    # params = {\n",
    "    #     'C': np.random.uniform(0.6, 2, size=10),\n",
    "    #     'kernel': ['rbf'],\n",
    "    #     'gamma': np.random.uniform(0.1, 1, size=10),\n",
    "    #     'shrinking': [True, False],\n",
    "    #     'probability': [True, False],\n",
    "    # }\n",
    "    # # 'C': 1.1762465067853318, 'gamma': 0.4538956433611281, 'kernel': 'rbf', 'probability': True, 'shrinking': True\n",
    "    params = {\n",
    "         'C': np.random.uniform(0.6, 1.3, size=10),\n",
    "         'kernel': ['rbf'],\n",
    "         'gamma': np.random.uniform(0.25, 0.5, size=10),\n",
    "         'shrinking': [True, False],\n",
    "         'probability': [True, False],\n",
    "    }\n",
    "    # Best params: {'C': 1.2778817904850097, 'gamma': 0.47902531791885644, 'kernel': 'rbf', 'probability': True, 'shrinking': True}\n",
    "    params = {\n",
    "         'C': [1.2778817904850097],\n",
    "         'kernel': ['rbf'],\n",
    "         'gamma': [0.47902531791885644],\n",
    "         'shrinking': [True],\n",
    "         'probability': [True, False],\n",
    "    }\n",
    "\n",
    "    # # Sigmod kernel\n",
    "    # # Initial broad search\n",
    "    # params = {\n",
    "    #     'C': np.random.uniform(0.0001, 0.5, size=10),\n",
    "    #     'kernel': ['sigmoid'],\n",
    "    #     'gamma': np.random.uniform(0.0001, 0.5, size=10),\n",
    "    #     'shrinking': [True, False],\n",
    "    #     'probability': [True, False],\n",
    "    # }\n",
    "    # # results: 'C': 0.45955040264897107, 'gamma': 0.03719075583701472, 'kernel': 'sigmoid', 'probability': True, 'shrinking': True\n",
    "    # # finer grid search:\n",
    "    # params = {\n",
    "    #     'C': np.random.uniform(0.1, 1, size=10),\n",
    "    #     'kernel': ['sigmoid'],\n",
    "    #     'gamma': np.random.uniform(0.01, 0.1, size=10),\n",
    "    #     'shrinking': [True, False],\n",
    "    #     'probability': [True, False],\n",
    "    # }\n",
    "    # # 'C': 0.6693226069904754, 'gamma': 0.032554091639207666, 'kernel': 'sigmoid', 'probability': True, 'shrinking': True\n",
    "    # params = {\n",
    "    #     'C': np.random.uniform(0.4, 0.8, size=10),\n",
    "    #     'kernel': ['sigmoid'],\n",
    "    #     'gamma': np.random.uniform(0.01, 0.05, size=10),\n",
    "    #     'shrinking': [True, False],\n",
    "    #     'probability': [True, False],\n",
    "    # }\n",
    "\n",
    "    ## Poly kernel\n",
    "    ## Initial broad search\n",
    "    #params = {\n",
    "    #    'C': np.random.uniform(0.0001, 0.5, size=5),\n",
    "    #    'kernel': ['poly'],\n",
    "    #    'degree': np.random.uniform(1, 3, size=5),\n",
    "    #    'gamma': np.random.uniform(0.0001, 0.5, size=5),\n",
    "    #    'shrinking': [True, False],\n",
    "    #    'probability': [True, False],\n",
    "    #}\n",
    "    # results: 'C': 0.22438374992061152, 'degree': 1.5659146627552227, 'gamma': 0.20465986148276036, 'kernel': 'poly', 'probability': True, 'shrinking': True\n",
    "    # finer grid search:\n",
    "    #params = {\n",
    "    #    'C': np.random.uniform(0.01, 0.5, size=5),\n",
    "    #    'kernel': ['poly'],\n",
    "    #    'degree': list(range(1, 6)),\n",
    "    #    'gamma': np.random.uniform(0.01, 0.5, size=5),\n",
    "    #    'shrinking': [True, False],\n",
    "    #    'probability': [True, False],\n",
    "    #}\n",
    "    # results: 'C': 0.01793599142055434, 'degree': 3, 'gamma': 0.35382342214177626, 'kernel': 'poly', 'probability': True, 'shrinking': True\n",
    "    #params = {\n",
    "    #    'C': np.random.uniform(0.005, 0.07, size=5),\n",
    "    #    'kernel': ['poly'],\n",
    "    #    'degree': list(range(2, 5)),\n",
    "    #    'gamma': np.random.uniform(0.1, 0.6, size=5),\n",
    "    #    'shrinking': [True, False],\n",
    "    #    'probability': [True, False],\n",
    "    #}\n",
    "    # 'C': 0.015616564261866982, 'degree': 3, 'gamma': 0.2313457630496316, 'kernel': 'poly', 'probability': True, 'shrinking': True\n",
    "    grid_search = GridSearchCV(model, params, cv=5, n_jobs=-1)\n",
    "    grid_search.fit(train_X, train_y)\n",
    "    print(f'Best params: {grid_search.best_params_}')\n",
    "    return grid_search.best_estimator_.predict"
   ]
  },
  {
   "cell_type": "markdown",
   "metadata": {
    "cell_id": "00013-d20ec5e9-7836-4038-a35c-16fb0a06f5c2",
    "deepnote_cell_type": "markdown"
   },
   "source": [
    "# Decision tree"
   ]
  },
  {
   "cell_type": "code",
   "execution_count": null,
   "metadata": {
    "cell_id": "00014-6ddef50e-5d2f-4012-b0fb-82157d4a4898",
    "deepnote_cell_type": "code",
    "deepnote_to_be_reexecuted": false,
    "execution": {
     "iopub.execute_input": "2022-01-02T22:07:16.385341Z",
     "iopub.status.busy": "2022-01-02T22:07:16.384971Z",
     "iopub.status.idle": "2022-01-02T22:07:16.396466Z",
     "shell.execute_reply": "2022-01-02T22:07:16.395434Z",
     "shell.execute_reply.started": "2022-01-02T22:07:16.385300Z"
    },
    "execution_millis": 1,
    "execution_start": 1641370732331,
    "source_hash": "f1adecfb",
    "trusted": true
   },
   "outputs": [],
   "source": [
    "@model_decorator('dt')\n",
    "def model_dt(train_X, train_y, test_X, test_y):\n",
    "    model = DecisionTreeClassifier()\n",
    "    params = {\n",
    "        'max_depth': list(range(2, 20)),\n",
    "        'min_samples_split': [3,4,5],\n",
    "        'min_samples_leaf': [4,5],\n",
    "        'class_weight': ['balanced', None],\n",
    "        'criterion': ['gini', 'entropy']\n",
    "    }\n",
    "    grid_search = GridSearchCV(model, params, cv=5, n_jobs=-1)\n",
    "    grid_search.fit(train_X, train_y)\n",
    "    print(f'Best params: {grid_search.best_params_}')\n",
    "    ## Plot decision tree\n",
    "    #dt = grid_search.best_estimator_\n",
    "    #dot_data = export_graphviz(dt, out_file=None, feature_names=['avg_ace%', 'avg_df%', 'avg_1st%', 'avg_2ndWin%', 'avg_bpSaved%', 'avg_ptWon%', \n",
    "    # 'win_rate', 'n_matches', 'tournament_wins'], filled=True, rounded=True)\n",
    "    #graph = graphviz.Source(dot_data)\n",
    "    #graph.render(\"dt\", view=True)\n",
    "    return grid_search.best_estimator_.predict"
   ]
  },
  {
   "cell_type": "markdown",
   "metadata": {
    "cell_id": "00015-f249dfaf-e6dd-4983-af09-9ea578de8c56",
    "deepnote_cell_type": "markdown"
   },
   "source": [
    "# Random forest"
   ]
  },
  {
   "cell_type": "code",
   "execution_count": null,
   "metadata": {
    "cell_id": "00016-b5e4be96-7dd7-4f4b-ad2c-3e9ee053c3e3",
    "deepnote_cell_type": "code",
    "deepnote_to_be_reexecuted": false,
    "execution": {
     "iopub.execute_input": "2022-01-02T22:07:16.400856Z",
     "iopub.status.busy": "2022-01-02T22:07:16.400546Z",
     "iopub.status.idle": "2022-01-02T22:07:16.407857Z",
     "shell.execute_reply": "2022-01-02T22:07:16.406857Z",
     "shell.execute_reply.started": "2022-01-02T22:07:16.400806Z"
    },
    "execution_millis": 1,
    "execution_start": 1641372544659,
    "source_hash": "f32e3d9c",
    "trusted": true
   },
   "outputs": [],
   "source": [
    "@model_decorator('rf')\n",
    "def model_rf(train_X, train_y, test_X, test_y):\n",
    "    model = RandomForestClassifier(n_estimators=30)\n",
    "    #params = {\n",
    "    #    \"bootstrap\": [True, False],\n",
    "    #    \"criterion\": [\"entropy\", \"gini\"],\n",
    "    #    \"max_depth\": list(range(2, 20)),\n",
    "    #    \"min_samples_split\": list(range(1, 10)),\n",
    "    #    \"min_samples_leaf\": list(range(1, 10)),\n",
    "    #    \"class_weight\": ['balanced', None]\n",
    "    #}\n",
    "    # Result of the grid search (unbalanced)\n",
    "    #params = {\n",
    "    #    \"bootstrap\": [True],\n",
    "    #    \"criterion\": [\"gini\"],\n",
    "    #    \"max_depth\": [9],\n",
    "    #    \"min_samples_split\": [8],\n",
    "    #    \"min_samples_leaf\": [7],\n",
    "    #    \"class_weight\": [None]\n",
    "    #}\n",
    "    # Result of the grid search (balanced)\n",
    "    params = {\n",
    "        \"bootstrap\": [False],\n",
    "        \"criterion\": [\"gini\"],\n",
    "        \"max_depth\": [18],\n",
    "        \"min_samples_split\": [4],\n",
    "        \"min_samples_leaf\": [1],\n",
    "        \"class_weight\": [None]\n",
    "    }\n",
    "    grid_search = GridSearchCV(model, params, cv=5, n_jobs=-1)\n",
    "    grid_search.fit(train_X, train_y)\n",
    "    print(f'Best params: {grid_search.best_params_}')\n",
    "    return grid_search.best_estimator_.predict"
   ]
  },
  {
   "cell_type": "markdown",
   "metadata": {
    "cell_id": "00017-82154bcb-a3bd-4208-bbaa-413c67847987",
    "deepnote_cell_type": "markdown"
   },
   "source": [
    "# NN"
   ]
  },
  {
   "cell_type": "code",
   "execution_count": null,
   "metadata": {
    "cell_id": "00018-fa4c88f5-6043-4488-9e71-015c4dd05711",
    "deepnote_cell_type": "code",
    "deepnote_to_be_reexecuted": false,
    "execution": {
     "iopub.execute_input": "2022-01-02T22:07:16.410200Z",
     "iopub.status.busy": "2022-01-02T22:07:16.409738Z",
     "iopub.status.idle": "2022-01-02T22:07:16.428707Z",
     "shell.execute_reply": "2022-01-02T22:07:16.427827Z",
     "shell.execute_reply.started": "2022-01-02T22:07:16.410161Z"
    },
    "execution_millis": 1,
    "execution_start": 1641372382080,
    "source_hash": "69187211",
    "tags": [],
    "trusted": true
   },
   "outputs": [],
   "source": [
    "# Construct and return the TensorFlow model.\n",
    "def create_model(hidden_layers, lr_rate):\n",
    "    model = Sequential()\n",
    "    model.add(BatchNormalization(input_shape=(train_X.shape[1],)))\n",
    "    model.add(Dense(hidden_layers[0][0], activation=hidden_layers[0][1]))\n",
    "    for i in range(1, len(hidden_layers)):\n",
    "        model.add(BatchNormalization())\n",
    "        model.add(Dense(hidden_layers[i][0], activation=hidden_layers[i][1]))\n",
    "        if hidden_layers[i][2] != 0:\n",
    "            model.add(Dropout(hidden_layers[i][2]))\n",
    "    model.add(BatchNormalization())\n",
    "    model.add(Dense(1, activation='sigmoid'))\n",
    "    \n",
    "    model.compile(loss='binary_crossentropy', optimizer=keras.optimizers.Adam(learning_rate=lr_rate), metrics=['accuracy'])\n",
    "    return model\n",
    "\n",
    "# Grid search for the best hyperparameters, using holdout as cross validation.\n",
    "def grid_search_holdout(train_X, train_y, val_X, val_y):   \n",
    "    hidden_units = [8, 16, 32, 64, 128, 256]\n",
    "    n_layers = [2,3]\n",
    "    dropout_rates = [0, 0.3, 0.5]\n",
    "    act_func = ['tanh', 'relu']\n",
    "    lr_rates = np.linspace(1e-5, 1e-2, 10)\n",
    "\n",
    "    # Best models found in the grid search. Decomment this part to get the best models.\n",
    "\n",
    "    # # best balanced model\n",
    "    # [(128, 'relu', 0.5), (128, 'relu', 0.5), (128, 'relu', 0.5)]\n",
    "    hidden_units = [128]\n",
    "    n_layers = [3]\n",
    "    dropout_rates = [0.5]\n",
    "    act_func = ['relu']\n",
    "    lr_rates = [0.006670000000000001]\n",
    "\n",
    "    # best *Unbalanced* model\n",
    "    # [(128, 'tanh', 0.3), (128, 'tanh', 0.3), (128, 'tanh', 0.3)] lr=0.01 ep=381\n",
    "    #hidden_units = [128]\n",
    "    #n_layers = [3]\n",
    "    #dropout_rates = [0.3]\n",
    "    #act_func = ['tanh']\n",
    "    #lr_rates = [0.01]\n",
    "\n",
    "    max_epochs = 1500\n",
    "    patience = 300\n",
    "    batch_size = 256\n",
    "    best_val_acc = 0\n",
    "    best_lr_rate = 0\n",
    "    best_model = None\n",
    "    best_epochs = 0\n",
    "    i = 0\n",
    "    N = len(hidden_units) * len(n_layers) * len(dropout_rates) * len(act_func) * len(lr_rates)\n",
    "\n",
    "    # Use the grid search to find the best model, applying the cartesian product of all the hyperparameters.\n",
    "    for hidden_unit, n_layer, dropout_rate, act_func, lr_rate in product(hidden_units, n_layers, dropout_rates, act_func, lr_rates):\n",
    "        # Construct the model based on the architecture.\n",
    "        model_arch = [(hidden_unit, act_func, dropout_rate)] * n_layer\n",
    "        model = create_model(model_arch, lr_rate)\n",
    "\n",
    "        # Fit the model using the EarlyStopping callback.\n",
    "        history = model.fit(train_X, train_y, epochs=max_epochs, batch_size=batch_size, verbose=0, validation_data=(val_X, val_y), callbacks=[EarlyStopping(monitor='val_loss', patience=patience)])\n",
    "        best_epoch = len(history.history['val_accuracy'])-1\n",
    "        acc = history.history['val_accuracy'][best_epoch]\n",
    "        \n",
    "        # Update the best model if the validation accuracy is better.\n",
    "        if acc > best_val_acc:\n",
    "            best_val_acc = acc\n",
    "            best_model = model_arch\n",
    "            best_lr_rate = lr_rate\n",
    "            best_epochs = best_epoch\n",
    "\n",
    "        # Print a progress bar for the grid search.\n",
    "        print(f'{i}/{N} {best_model} lr={best_lr_rate} ep={best_epochs} acc={best_val_acc}')\n",
    "        i += 1\n",
    "    return best_model, best_lr_rate, best_epochs"
   ]
  },
  {
   "cell_type": "code",
   "execution_count": null,
   "metadata": {
    "cell_id": "00019-2a32baef-fd81-456b-aaac-36b91e1f15a5",
    "deepnote_cell_type": "code",
    "deepnote_output_heights": [
     78.75
    ],
    "deepnote_to_be_reexecuted": false,
    "execution": {
     "iopub.execute_input": "2022-01-02T22:07:16.431656Z",
     "iopub.status.busy": "2022-01-02T22:07:16.429773Z",
     "iopub.status.idle": "2022-01-02T22:07:16.441854Z",
     "shell.execute_reply": "2022-01-02T22:07:16.441026Z",
     "shell.execute_reply.started": "2022-01-02T22:07:16.431612Z"
    },
    "execution_millis": 2,
    "execution_start": 1641369962316,
    "source_hash": "43a1f2ee",
    "trusted": true
   },
   "outputs": [],
   "source": [
    "# Now we can use the best model to predict the test set.\n",
    "# Note that we apply a retraining of the model with the best hyperparameters on the entire dataset.\n",
    "\n",
    "def model_neural_network(train_X, train_y, val_X, val_y):\n",
    "    best_model, best_lr_rate, best_epoch = grid_search_holdout(train_X, train_y, val_X, val_y)\n",
    "    print(f'Best model: {best_model}')\n",
    "    print(f'Best lr_rate: {best_lr_rate}')\n",
    "    print(f'Best epoch: {best_epoch}')\n",
    "\n",
    "    # Final retraining on the entire dataset.\n",
    "    # Construct the model based on the architecture.\n",
    "    model = create_model(best_model, best_lr_rate)\n",
    "    history = model.fit(train_X, train_y,\n",
    "                        validation_data=(test_X, test_y),\n",
    "                        epochs=best_epoch+1,\n",
    "                        batch_size=256,\n",
    "                        verbose=0)\n",
    "    \n",
    "    # Get the predictions from the sigmoid function with the treshold.\n",
    "    def threshold(x, threshold=0.5):\n",
    "        return (x >= threshold).astype(int)\n",
    "\n",
    "    return lambda x: threshold(model.predict(x))\n",
    "\n",
    "def run_nn(train_X, train_y, test_X, test_y, balanced=False):\n",
    "    train_X, val_X, train_y, val_y = train_test_split(train_X, train_y, test_size=0.2, random_state=42)\n",
    "    if balanced:\n",
    "        # Balance data with SMOTE\n",
    "        sm = SMOTE(random_state=33)\n",
    "        train_X, train_y = sm.fit_resample(train_X, train_y)\n",
    "    prediction_function = model_neural_network(train_X, train_y, val_X, val_y)\n",
    "\n",
    "    predict_train = prediction_function(train_X)\n",
    "    predict_test  = prediction_function(test_X)\n",
    "            \n",
    "    # Print train and test accuracy\n",
    "    print('Train accuracy:', accuracy_score(train_y, predict_train))\n",
    "    print('Validation accuracy:', accuracy_score(val_y, prediction_function(val_X)))\n",
    "    print('Test accuracy:', accuracy_score(test_y, predict_test))\n",
    "    \n",
    "    # Print classification report\n",
    "    print('Train classification report:')\n",
    "    print(classification_report(train_y, predict_train))\n",
    "\n",
    "    print('Validation classification report:')\n",
    "    print(classification_report(val_y, prediction_function(val_X)))\n",
    "\n",
    "    print('Test Classification report:')\n",
    "    print(classification_report(test_y, predict_test))\n",
    "    \n",
    "    # Plot confusion matrix\n",
    "    cm = confusion_matrix(test_y, predict_test)\n",
    "    plt.matshow(cm)\n",
    "    plt.title('Confusion Matrix')\n",
    "    plt.colorbar()\n",
    "    plt.ylabel('True label')\n",
    "    plt.xlabel('Predicted label')\n",
    "    # Add labels to each cell\n",
    "    for i in range(cm.shape[0]):\n",
    "        for j in range(cm.shape[1]):\n",
    "            plt.text(x=j, y=i, s=cm[i, j], va='center', ha='center')\n",
    "    plt.show()"
   ]
  },
  {
   "cell_type": "markdown",
   "metadata": {
    "cell_id": "00020-871c8c7f-4282-4ee3-9237-a52130f6ab47",
    "deepnote_cell_type": "markdown",
    "tags": []
   },
   "source": [
    "## <hr><center>Run all the classifiers</center></hr>"
   ]
  },
  {
   "cell_type": "code",
   "execution_count": null,
   "metadata": {
    "cell_id": "00021-22488dde-befe-4479-b11a-28488ff3bc45",
    "deepnote_cell_type": "code",
    "deepnote_to_be_reexecuted": false,
    "execution": {
     "iopub.execute_input": "2022-01-02T22:07:16.464375Z",
     "iopub.status.busy": "2022-01-02T22:07:16.463640Z",
     "iopub.status.idle": "2022-01-02T22:07:16.477345Z",
     "shell.execute_reply": "2022-01-02T22:07:16.476619Z",
     "shell.execute_reply.started": "2022-01-02T22:07:16.464322Z"
    },
    "execution_millis": 7,
    "execution_start": 1641370005781,
    "source_hash": "f1d6d642",
    "trusted": true
   },
   "outputs": [],
   "source": [
    "# Balance data with SMOTE\n",
    "sm = SMOTE(random_state=33)\n",
    "balanced_train_X, balanced_train_y = sm.fit_resample(train_X, train_y)"
   ]
  },
  {
   "cell_type": "code",
   "execution_count": null,
   "metadata": {
    "cell_id": "00022-4a5d26b9-7a0a-4db5-bdf8-92209a83d791",
    "deepnote_cell_type": "code",
    "deepnote_output_heights": [
     117.125
    ],
    "deepnote_to_be_reexecuted": false,
    "execution": {
     "iopub.execute_input": "2022-01-02T22:07:16.479328Z",
     "iopub.status.busy": "2022-01-02T22:07:16.478574Z",
     "iopub.status.idle": "2022-01-02T22:07:16.488101Z",
     "shell.execute_reply": "2022-01-02T22:07:16.487351Z",
     "shell.execute_reply.started": "2022-01-02T22:07:16.479290Z"
    },
    "execution_millis": 11,
    "execution_start": 1641370007147,
    "source_hash": "f9a59047",
    "tags": [],
    "trusted": true
   },
   "outputs": [
    {
     "data": {
      "text/plain": [
       "{'knn': {'model': <function __main__.model_knn_grid_search(train_X, train_y, test_X, test_y)>},\n",
       " 'logistic_regression': {'model': <function __main__.model_logistic_regression(train_X, train_y, test_X, test_y)>},\n",
       " 'bayes': {'model': <function __main__.model_bayes(train_X, train_y, test_X, test_y)>},\n",
       " 'svm': {'model': <function __main__.model_svm(train_X, train_y, test_X, test_y)>},\n",
       " 'dt': {'model': <function __main__.model_dt(train_X, train_y, test_X, test_y)>},\n",
       " 'rf': {'model': <function __main__.model_rf(train_X, train_y, test_X, test_y)>}}"
      ]
     },
     "execution_count": 14,
     "metadata": {},
     "output_type": "execute_result"
    }
   ],
   "source": [
    "# Verify that all models have been inserted correctly.\n",
    "\n",
    "all_classifiers"
   ]
  },
  {
   "cell_type": "code",
   "execution_count": null,
   "metadata": {
    "cell_id": "00023-a26a87dc-745f-477e-b899-dc98506527ce",
    "deepnote_cell_type": "code",
    "deepnote_to_be_reexecuted": false,
    "execution": {
     "iopub.execute_input": "2022-01-02T22:07:16.490543Z",
     "iopub.status.busy": "2022-01-02T22:07:16.489135Z",
     "iopub.status.idle": "2022-01-02T22:07:16.496946Z",
     "shell.execute_reply": "2022-01-02T22:07:16.496137Z",
     "shell.execute_reply.started": "2022-01-02T22:07:16.490496Z"
    },
    "execution_millis": 2,
    "execution_start": 1641370011194,
    "source_hash": "1e972017",
    "trusted": true
   },
   "outputs": [],
   "source": [
    "# Helper functions to run each model individually.\n",
    "\n",
    "run_classifier_by_name_unbalanced = lambda name: run_classifier_by_name(name, train_X, train_y, test_X, test_y)\n",
    "run_classifier_by_name_balanced = lambda name: run_classifier_by_name(name, balanced_train_X, balanced_train_y, test_X, test_y)"
   ]
  },
  {
   "cell_type": "code",
   "execution_count": null,
   "metadata": {
    "cell_id": "00024-3fdfb234-76de-4c49-9c07-4ddad90892f8",
    "deepnote_cell_type": "code",
    "deepnote_output_heights": [
     null,
     250,
     null,
     250,
     null,
     250,
     null,
     250,
     null,
     250,
     null,
     250
    ],
    "deepnote_to_be_reexecuted": false,
    "execution_millis": 293973,
    "execution_start": 1641370959036,
    "source_hash": "9d6d17c0",
    "tags": []
   },
   "outputs": [
    {
     "name": "stdout",
     "output_type": "stream",
     "text": [
      "---------------- MODEL:  knn\n",
      "Best params: {'algorithm': 'ball_tree', 'metric': 'minkowski', 'n_neighbors': 11, 'p': 1, 'weights': 'uniform'}\n",
      "Train accuracy: 0.9129568106312292\n",
      "Test accuracy: 0.9018567639257294\n",
      "Train classification report:\n",
      "              precision    recall  f1-score   support\n",
      "\n",
      "         0.0       0.93      0.97      0.95      1281\n",
      "         1.0       0.79      0.57      0.66       224\n",
      "\n",
      "    accuracy                           0.91      1505\n",
      "   macro avg       0.86      0.77      0.80      1505\n",
      "weighted avg       0.91      0.91      0.91      1505\n",
      "\n",
      "Test Classification report:\n",
      "              precision    recall  f1-score   support\n",
      "\n",
      "         0.0       0.93      0.95      0.94       318\n",
      "         1.0       0.71      0.63      0.67        59\n",
      "\n",
      "    accuracy                           0.90       377\n",
      "   macro avg       0.82      0.79      0.80       377\n",
      "weighted avg       0.90      0.90      0.90       377\n",
      "\n"
     ]
    },
    {
     "data": {
      "image/png": "[encoded data removed]",
      "text/plain": [
       "<Figure size 288x288 with 2 Axes>"
      ]
     },
     "metadata": {
      "image/png": {
       "height": 248,
       "width": 268
      },
      "needs_background": "light"
     },
     "output_type": "display_data"
    },
    {
     "name": "stdout",
     "output_type": "stream",
     "text": [
      "---------------- MODEL:  logistic_regression\n",
      "Best params: {'C': 0.06320462867496969, 'class_weight': None, 'max_iter': 10000, 'solver': 'liblinear'}\n",
      "Train accuracy: 0.8837209302325582\n",
      "Test accuracy: 0.8779840848806366\n",
      "Train classification report:\n",
      "              precision    recall  f1-score   support\n",
      "\n",
      "         0.0       0.90      0.97      0.93      1281\n",
      "         1.0       0.68      0.41      0.51       224\n",
      "\n",
      "    accuracy                           0.88      1505\n",
      "   macro avg       0.79      0.69      0.72      1505\n",
      "weighted avg       0.87      0.88      0.87      1505\n",
      "\n",
      "Test Classification report:\n",
      "              precision    recall  f1-score   support\n",
      "\n",
      "         0.0       0.90      0.96      0.93       318\n",
      "         1.0       0.67      0.44      0.53        59\n",
      "\n",
      "    accuracy                           0.88       377\n",
      "   macro avg       0.78      0.70      0.73       377\n",
      "weighted avg       0.87      0.88      0.87       377\n",
      "\n"
     ]
    },
    {
     "data": {
      "image/png": "[encoded data removed]",
      "text/plain": [
       "<Figure size 288x288 with 2 Axes>"
      ]
     },
     "metadata": {
      "image/png": {
       "height": 248,
       "width": 268
      },
      "needs_background": "light"
     },
     "output_type": "display_data"
    },
    {
     "name": "stdout",
     "output_type": "stream",
     "text": [
      "---------------- MODEL:  bayes\n",
      "Train accuracy: 0.837873754152824\n",
      "Test accuracy: 0.8567639257294429\n",
      "Train classification report:\n",
      "              precision    recall  f1-score   support\n",
      "\n",
      "         0.0       0.95      0.85      0.90      1281\n",
      "         1.0       0.47      0.75      0.58       224\n",
      "\n",
      "    accuracy                           0.84      1505\n",
      "   macro avg       0.71      0.80      0.74      1505\n",
      "weighted avg       0.88      0.84      0.85      1505\n",
      "\n",
      "Test Classification report:\n",
      "              precision    recall  f1-score   support\n",
      "\n",
      "         0.0       0.96      0.86      0.91       318\n",
      "         1.0       0.53      0.83      0.64        59\n",
      "\n",
      "    accuracy                           0.86       377\n",
      "   macro avg       0.75      0.85      0.78       377\n",
      "weighted avg       0.90      0.86      0.87       377\n",
      "\n"
     ]
    },
    {
     "data": {
      "image/png": "[encoded data removed]",
      "text/plain": [
       "<Figure size 288x288 with 2 Axes>"
      ]
     },
     "metadata": {
      "image/png": {
       "height": 248,
       "width": 268
      },
      "needs_background": "light"
     },
     "output_type": "display_data"
    },
    {
     "name": "stdout",
     "output_type": "stream",
     "text": [
      "---------------- MODEL:  svm\n",
      "Best params: {'C': 1.295785408228576, 'gamma': 0.2745805148836231, 'kernel': 'rbf', 'probability': True, 'shrinking': True}\n",
      "Train accuracy: 0.9295681063122924\n",
      "Test accuracy: 0.9045092838196287\n",
      "Train classification report:\n",
      "              precision    recall  f1-score   support\n",
      "\n",
      "         0.0       0.93      0.99      0.96      1281\n",
      "         1.0       0.90      0.59      0.72       224\n",
      "\n",
      "    accuracy                           0.93      1505\n",
      "   macro avg       0.92      0.79      0.84      1505\n",
      "weighted avg       0.93      0.93      0.92      1505\n",
      "\n",
      "Test Classification report:\n",
      "              precision    recall  f1-score   support\n",
      "\n",
      "         0.0       0.92      0.97      0.94       318\n",
      "         1.0       0.78      0.54      0.64        59\n",
      "\n",
      "    accuracy                           0.90       377\n",
      "   macro avg       0.85      0.76      0.79       377\n",
      "weighted avg       0.90      0.90      0.90       377\n",
      "\n"
     ]
    },
    {
     "data": {
      "image/png": "[encoded data removed]",
      "text/plain": [
       "<Figure size 288x288 with 2 Axes>"
      ]
     },
     "metadata": {
      "image/png": {
       "height": 248,
       "width": 268
      },
      "needs_background": "light"
     },
     "output_type": "display_data"
    },
    {
     "name": "stdout",
     "output_type": "stream",
     "text": [
      "---------------- MODEL:  dt\n",
      "Best params: {'class_weight': None, 'criterion': 'gini', 'max_depth': 3, 'min_samples_leaf': 4, 'min_samples_split': 3}\n",
      "Train accuracy: 0.8850498338870432\n",
      "Test accuracy: 0.883289124668435\n",
      "Train classification report:\n",
      "              precision    recall  f1-score   support\n",
      "\n",
      "         0.0       0.91      0.96      0.93      1281\n",
      "         1.0       0.67      0.44      0.53       224\n",
      "\n",
      "    accuracy                           0.89      1505\n",
      "   macro avg       0.79      0.70      0.73      1505\n",
      "weighted avg       0.87      0.89      0.87      1505\n",
      "\n",
      "Test Classification report:\n",
      "              precision    recall  f1-score   support\n",
      "\n",
      "         0.0       0.91      0.96      0.93       318\n",
      "         1.0       0.69      0.46      0.55        59\n",
      "\n",
      "    accuracy                           0.88       377\n",
      "   macro avg       0.80      0.71      0.74       377\n",
      "weighted avg       0.87      0.88      0.87       377\n",
      "\n"
     ]
    },
    {
     "data": {
      "image/png": "[encoded data removed]",
      "text/plain": [
       "<Figure size 288x288 with 2 Axes>"
      ]
     },
     "metadata": {
      "image/png": {
       "height": 248,
       "width": 268
      },
      "needs_background": "light"
     },
     "output_type": "display_data"
    },
    {
     "name": "stdout",
     "output_type": "stream",
     "text": [
      "---------------- MODEL:  rf\n",
      "Best params: {'bootstrap': True, 'class_weight': None, 'criterion': 'gini', 'max_depth': 9, 'min_samples_leaf': 7, 'min_samples_split': 8}\n",
      "Train accuracy: 0.9421926910299003\n",
      "Test accuracy: 0.896551724137931\n",
      "Train classification report:\n",
      "              precision    recall  f1-score   support\n",
      "\n",
      "         0.0       0.94      0.99      0.97      1281\n",
      "         1.0       0.92      0.67      0.78       224\n",
      "\n",
      "    accuracy                           0.94      1505\n",
      "   macro avg       0.93      0.83      0.87      1505\n",
      "weighted avg       0.94      0.94      0.94      1505\n",
      "\n",
      "Test Classification report:\n",
      "              precision    recall  f1-score   support\n",
      "\n",
      "         0.0       0.92      0.96      0.94       318\n",
      "         1.0       0.72      0.56      0.63        59\n",
      "\n",
      "    accuracy                           0.90       377\n",
      "   macro avg       0.82      0.76      0.78       377\n",
      "weighted avg       0.89      0.90      0.89       377\n",
      "\n"
     ]
    },
    {
     "data": {
      "image/png": "[encoded data removed]",
      "text/plain": [
       "<Figure size 288x288 with 2 Axes>"
      ]
     },
     "metadata": {
      "image/png": {
       "height": 248,
       "width": 268
      },
      "needs_background": "light"
     },
     "output_type": "display_data"
    }
   ],
   "source": [
    "# Unbalanced data\n",
    "run_classifiers(all_classifiers, train_X, train_y, test_X, test_y)"
   ]
  },
  {
   "cell_type": "code",
   "execution_count": null,
   "metadata": {
    "cell_id": "00025-20cda732-7dd5-4c2a-beba-3db2ae95e2e3",
    "deepnote_cell_type": "code",
    "deepnote_output_heights": [
     null,
     250
    ],
    "deepnote_to_be_reexecuted": false,
    "execution_millis": 68763,
    "execution_start": 1641371472831,
    "source_hash": "9c35e027",
    "tags": []
   },
   "outputs": [
    {
     "name": "stdout",
     "output_type": "stream",
     "text": [
      "0/1 [(128, 'tanh', 0.3), (128, 'tanh', 0.3), (128, 'tanh', 0.3)] lr=0.01 ep=355 acc=0.8837209343910217\n",
      "Best model: [(128, 'tanh', 0.3), (128, 'tanh', 0.3), (128, 'tanh', 0.3)]\n",
      "Best lr_rate: 0.01\n",
      "Best epoch: 355\n",
      "Train accuracy: 0.9991694352159468\n",
      "Validation accuracy: 0.8737541528239202\n",
      "Test accuracy: 0.8938992042440318\n",
      "Train classification report:\n",
      "              precision    recall  f1-score   support\n",
      "\n",
      "         0.0       1.00      1.00      1.00      1022\n",
      "         1.0       1.00      0.99      1.00       182\n",
      "\n",
      "    accuracy                           1.00      1204\n",
      "   macro avg       1.00      1.00      1.00      1204\n",
      "weighted avg       1.00      1.00      1.00      1204\n",
      "\n",
      "Validation classification report:\n",
      "              precision    recall  f1-score   support\n",
      "\n",
      "         0.0       0.93      0.92      0.93       259\n",
      "         1.0       0.54      0.60      0.57        42\n",
      "\n",
      "    accuracy                           0.87       301\n",
      "   macro avg       0.74      0.76      0.75       301\n",
      "weighted avg       0.88      0.87      0.88       301\n",
      "\n",
      "Test Classification report:\n",
      "              precision    recall  f1-score   support\n",
      "\n",
      "         0.0       0.92      0.95      0.94       318\n",
      "         1.0       0.69      0.58      0.63        59\n",
      "\n",
      "    accuracy                           0.89       377\n",
      "   macro avg       0.81      0.76      0.78       377\n",
      "weighted avg       0.89      0.89      0.89       377\n",
      "\n"
     ]
    },
    {
     "data": {
      "image/png": "[encoded data removed]",
      "text/plain": [
       "<Figure size 288x288 with 2 Axes>"
      ]
     },
     "metadata": {
      "image/png": {
       "height": 248,
       "width": 268
      },
      "needs_background": "light"
     },
     "output_type": "display_data"
    }
   ],
   "source": [
    "# Neural network is treated separatedly given its higher complexity.\n",
    "\n",
    "# Run NN with Unbalanced data\n",
    "run_nn(train_X, train_y, test_X, test_y, balanced=False)"
   ]
  },
  {
   "cell_type": "code",
   "execution_count": null,
   "metadata": {
    "cell_id": "00025-3ff927d0-9425-4fda-9d2a-09ab1da9f3de",
    "deepnote_cell_type": "code",
    "deepnote_output_heights": [
     null,
     250,
     null,
     250,
     null,
     250,
     null,
     250,
     null,
     250,
     null,
     250
    ],
    "deepnote_to_be_reexecuted": false,
    "execution_millis": 697547,
    "execution_start": 1641372766753,
    "source_hash": "2bb2ed3b",
    "tags": []
   },
   "outputs": [
    {
     "name": "stdout",
     "output_type": "stream",
     "text": [
      "---------------- MODEL:  knn\n",
      "Best params: {'algorithm': 'ball_tree', 'metric': 'minkowski', 'n_neighbors': 2, 'p': 2, 'weights': 'uniform'}\n",
      "Train accuracy: 0.9964871194379391\n",
      "Test accuracy: 0.8673740053050398\n",
      "Train classification report:\n",
      "              precision    recall  f1-score   support\n",
      "\n",
      "         0.0       0.99      1.00      1.00      1281\n",
      "         1.0       1.00      0.99      1.00      1281\n",
      "\n",
      "    accuracy                           1.00      2562\n",
      "   macro avg       1.00      1.00      1.00      2562\n",
      "weighted avg       1.00      1.00      1.00      2562\n",
      "\n",
      "Test Classification report:\n",
      "              precision    recall  f1-score   support\n",
      "\n",
      "         0.0       0.94      0.90      0.92       318\n",
      "         1.0       0.56      0.68      0.62        59\n",
      "\n",
      "    accuracy                           0.87       377\n",
      "   macro avg       0.75      0.79      0.77       377\n",
      "weighted avg       0.88      0.87      0.87       377\n",
      "\n"
     ]
    },
    {
     "data": {
      "image/png": "[encoded data removed]",
      "text/plain": [
       "<Figure size 288x288 with 2 Axes>"
      ]
     },
     "metadata": {
      "image/png": {
       "height": 248,
       "width": 268
      },
      "needs_background": "light"
     },
     "output_type": "display_data"
    },
    {
     "name": "stdout",
     "output_type": "stream",
     "text": [
      "---------------- MODEL:  logistic_regression\n",
      "Best params: {'C': 0.4839401457219079, 'class_weight': 'balanced', 'max_iter': 10000, 'solver': 'newton-cg'}\n",
      "Train accuracy: 0.8481654957064794\n",
      "Test accuracy: 0.8620689655172413\n",
      "Train classification report:\n",
      "              precision    recall  f1-score   support\n",
      "\n",
      "         0.0       0.88      0.80      0.84      1281\n",
      "         1.0       0.82      0.89      0.85      1281\n",
      "\n",
      "    accuracy                           0.85      2562\n",
      "   macro avg       0.85      0.85      0.85      2562\n",
      "weighted avg       0.85      0.85      0.85      2562\n",
      "\n",
      "Test Classification report:\n",
      "              precision    recall  f1-score   support\n",
      "\n",
      "         0.0       0.99      0.85      0.91       318\n",
      "         1.0       0.53      0.93      0.68        59\n",
      "\n",
      "    accuracy                           0.86       377\n",
      "   macro avg       0.76      0.89      0.80       377\n",
      "weighted avg       0.91      0.86      0.88       377\n",
      "\n"
     ]
    },
    {
     "data": {
      "image/png": "[encoded data removed]",
      "text/plain": [
       "<Figure size 288x288 with 2 Axes>"
      ]
     },
     "metadata": {
      "image/png": {
       "height": 248,
       "width": 268
      },
      "needs_background": "light"
     },
     "output_type": "display_data"
    },
    {
     "name": "stdout",
     "output_type": "stream",
     "text": [
      "---------------- MODEL:  bayes\n",
      "Train accuracy: 0.8524590163934426\n",
      "Test accuracy: 0.830238726790451\n",
      "Train classification report:\n",
      "              precision    recall  f1-score   support\n",
      "\n",
      "         0.0       0.90      0.80      0.84      1281\n",
      "         1.0       0.82      0.91      0.86      1281\n",
      "\n",
      "    accuracy                           0.85      2562\n",
      "   macro avg       0.86      0.85      0.85      2562\n",
      "weighted avg       0.86      0.85      0.85      2562\n",
      "\n",
      "Test Classification report:\n",
      "              precision    recall  f1-score   support\n",
      "\n",
      "         0.0       0.98      0.81      0.89       318\n",
      "         1.0       0.48      0.93      0.63        59\n",
      "\n",
      "    accuracy                           0.83       377\n",
      "   macro avg       0.73      0.87      0.76       377\n",
      "weighted avg       0.91      0.83      0.85       377\n",
      "\n"
     ]
    },
    {
     "data": {
      "image/png": "[encoded data removed]",
      "text/plain": [
       "<Figure size 288x288 with 2 Axes>"
      ]
     },
     "metadata": {
      "image/png": {
       "height": 248,
       "width": 268
      },
      "needs_background": "light"
     },
     "output_type": "display_data"
    },
    {
     "name": "stdout",
     "output_type": "stream",
     "text": [
      "---------------- MODEL:  svm\n",
      "Best params: {'C': 1.2548468024660122, 'gamma': 0.44333171274944194, 'kernel': 'rbf', 'probability': True, 'shrinking': True}\n",
      "Train accuracy: 0.9551131928181108\n",
      "Test accuracy: 0.883289124668435\n",
      "Train classification report:\n",
      "              precision    recall  f1-score   support\n",
      "\n",
      "         0.0       0.99      0.92      0.95      1281\n",
      "         1.0       0.92      0.99      0.96      1281\n",
      "\n",
      "    accuracy                           0.96      2562\n",
      "   macro avg       0.96      0.96      0.96      2562\n",
      "weighted avg       0.96      0.96      0.96      2562\n",
      "\n",
      "Test Classification report:\n",
      "              precision    recall  f1-score   support\n",
      "\n",
      "         0.0       0.96      0.90      0.93       318\n",
      "         1.0       0.59      0.80      0.68        59\n",
      "\n",
      "    accuracy                           0.88       377\n",
      "   macro avg       0.78      0.85      0.80       377\n",
      "weighted avg       0.90      0.88      0.89       377\n",
      "\n"
     ]
    },
    {
     "data": {
      "image/png": "[encoded data removed]",
      "text/plain": [
       "<Figure size 288x288 with 2 Axes>"
      ]
     },
     "metadata": {
      "image/png": {
       "height": 248,
       "width": 268
      },
      "needs_background": "light"
     },
     "output_type": "display_data"
    },
    {
     "name": "stdout",
     "output_type": "stream",
     "text": [
      "---------------- MODEL:  dt\n",
      "Best params: {'class_weight': None, 'criterion': 'entropy', 'max_depth': 9, 'min_samples_leaf': 4, 'min_samples_split': 4}\n",
      "Train accuracy: 0.9305230288836847\n",
      "Test accuracy: 0.870026525198939\n",
      "Train classification report:\n",
      "              precision    recall  f1-score   support\n",
      "\n",
      "         0.0       0.95      0.91      0.93      1281\n",
      "         1.0       0.91      0.96      0.93      1281\n",
      "\n",
      "    accuracy                           0.93      2562\n",
      "   macro avg       0.93      0.93      0.93      2562\n",
      "weighted avg       0.93      0.93      0.93      2562\n",
      "\n",
      "Test Classification report:\n",
      "              precision    recall  f1-score   support\n",
      "\n",
      "         0.0       0.97      0.88      0.92       318\n",
      "         1.0       0.56      0.83      0.67        59\n",
      "\n",
      "    accuracy                           0.87       377\n",
      "   macro avg       0.76      0.85      0.79       377\n",
      "weighted avg       0.90      0.87      0.88       377\n",
      "\n"
     ]
    },
    {
     "data": {
      "image/png": "[encoded data removed]",
      "text/plain": [
       "<Figure size 288x288 with 2 Axes>"
      ]
     },
     "metadata": {
      "image/png": {
       "height": 248,
       "width": 268
      },
      "needs_background": "light"
     },
     "output_type": "display_data"
    },
    {
     "name": "stdout",
     "output_type": "stream",
     "text": [
      "---------------- MODEL:  rf\n",
      "Best params: {'bootstrap': False, 'class_weight': None, 'criterion': 'gini', 'max_depth': 18, 'min_samples_leaf': 1, 'min_samples_split': 4}\n",
      "Train accuracy: 1.0\n",
      "Test accuracy: 0.896551724137931\n",
      "Train classification report:\n",
      "              precision    recall  f1-score   support\n",
      "\n",
      "         0.0       1.00      1.00      1.00      1281\n",
      "         1.0       1.00      1.00      1.00      1281\n",
      "\n",
      "    accuracy                           1.00      2562\n",
      "   macro avg       1.00      1.00      1.00      2562\n",
      "weighted avg       1.00      1.00      1.00      2562\n",
      "\n",
      "Test Classification report:\n",
      "              precision    recall  f1-score   support\n",
      "\n",
      "         0.0       0.96      0.92      0.94       318\n",
      "         1.0       0.64      0.80      0.71        59\n",
      "\n",
      "    accuracy                           0.90       377\n",
      "   macro avg       0.80      0.86      0.82       377\n",
      "weighted avg       0.91      0.90      0.90       377\n",
      "\n"
     ]
    },
    {
     "data": {
      "image/png": "[encoded data removed]",
      "text/plain": [
       "<Figure size 288x288 with 2 Axes>"
      ]
     },
     "metadata": {
      "image/png": {
       "height": 248,
       "width": 268
      },
      "needs_background": "light"
     },
     "output_type": "display_data"
    }
   ],
   "source": [
    "# Balanced data (SMOTE)\n",
    "run_classifiers(all_classifiers, balanced_train_X, balanced_train_y, test_X, test_y)"
   ]
  },
  {
   "cell_type": "code",
   "execution_count": null,
   "metadata": {
    "cell_id": "00027-3ec9c2be-615c-419c-9d5a-b680a7890087",
    "deepnote_cell_type": "code",
    "deepnote_output_heights": [
     null,
     250
    ],
    "deepnote_to_be_reexecuted": false,
    "execution_millis": 74437,
    "execution_start": 1641372388406,
    "source_hash": "3ac9526e",
    "tags": []
   },
   "outputs": [
    {
     "name": "stdout",
     "output_type": "stream",
     "text": [
      "0/1 [(128, 'relu', 0.5), (128, 'relu', 0.5), (128, 'relu', 0.5)] lr=0.006670000000000001 ep=340 acc=0.8936877250671387\n",
      "Best model: [(128, 'relu', 0.5), (128, 'relu', 0.5), (128, 'relu', 0.5)]\n",
      "Best lr_rate: 0.006670000000000001\n",
      "Best epoch: 340\n",
      "Train accuracy: 0.9990215264187867\n",
      "Validation accuracy: 0.9003322259136213\n",
      "Test accuracy: 0.9071618037135278\n",
      "Train classification report:\n",
      "              precision    recall  f1-score   support\n",
      "\n",
      "         0.0       1.00      1.00      1.00      1022\n",
      "         1.0       1.00      1.00      1.00      1022\n",
      "\n",
      "    accuracy                           1.00      2044\n",
      "   macro avg       1.00      1.00      1.00      2044\n",
      "weighted avg       1.00      1.00      1.00      2044\n",
      "\n",
      "Validation classification report:\n",
      "              precision    recall  f1-score   support\n",
      "\n",
      "         0.0       0.96      0.93      0.94       259\n",
      "         1.0       0.62      0.74      0.67        42\n",
      "\n",
      "    accuracy                           0.90       301\n",
      "   macro avg       0.79      0.83      0.81       301\n",
      "weighted avg       0.91      0.90      0.90       301\n",
      "\n",
      "Test Classification report:\n",
      "              precision    recall  f1-score   support\n",
      "\n",
      "         0.0       0.95      0.94      0.94       318\n",
      "         1.0       0.70      0.71      0.71        59\n",
      "\n",
      "    accuracy                           0.91       377\n",
      "   macro avg       0.82      0.83      0.83       377\n",
      "weighted avg       0.91      0.91      0.91       377\n",
      "\n"
     ]
    },
    {
     "data": {
      "image/png": "[encoded data removed]",
      "text/plain": [
       "<Figure size 288x288 with 2 Axes>"
      ]
     },
     "metadata": {
      "image/png": {
       "height": 248,
       "width": 268
      },
      "needs_background": "light"
     },
     "output_type": "display_data"
    }
   ],
   "source": [
    "# Run NN with Balanced data (SMOTE)\n",
    "run_nn(train_X, train_y, test_X, test_y, balanced=True)"
   ]
  },
  {
   "cell_type": "code",
   "execution_count": null,
   "metadata": {
    "cell_id": "00029-1b17c690-fca4-4231-9164-283484151540",
    "deepnote_cell_type": "code",
    "tags": []
   },
   "outputs": [],
   "source": []
  },
  {
   "cell_type": "markdown",
   "metadata": {
    "created_in_deepnote_cell": true,
    "deepnote_cell_type": "markdown",
    "tags": []
   },
   "source": [
    "<a style='text-decoration:none;line-height:16px;display:flex;color:#5B5B62;padding:10px;justify-content:end;' href='https://deepnote.com?utm_source=created-in-deepnote-cell&projectId=52344550-8347-4668-936e-f505b5adca8e' target=\"_blank\">\n",
    "<img alt='Created in deepnote.com' style='display:inline;max-height:16px;margin:0px;margin-right:7.5px;' src='data:image/svg+xml;base64,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' > </img>\n",
    "Created in <span style='font-weight:600;margin-left:4px;'>Deepnote</span></a>"
   ]
  }
 ],
 "metadata": {
  "deepnote": {},
  "deepnote_execution_queue": [],
  "deepnote_notebook_id": "793792d0-13b3-4af6-a77d-f73eaaaac4d8",
  "kernelspec": {
   "display_name": "Python 3",
   "language": "python",
   "name": "python3"
  },
  "language_info": {
   "codemirror_mode": {
    "name": "ipython",
    "version": 3
   },
   "file_extension": ".py",
   "mimetype": "text/x-python",
   "name": "python",
   "nbconvert_exporter": "python",
   "pygments_lexer": "ipython3",
   "version": "3.9.7"
  }
 },
 "nbformat": 4,
 "nbformat_minor": 4
}
